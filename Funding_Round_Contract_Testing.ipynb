{
 "cells": [
  {
   "cell_type": "code",
   "execution_count": 1,
   "id": "dbaf48cd",
   "metadata": {},
   "outputs": [],
   "source": [
    "from web3 import Web3\n",
    "import json\n",
    "import os\n",
    "import dotenv \n",
    "import random\n",
    "from datetime import datetime\n",
    "\n"
   ]
  },
  {
   "cell_type": "code",
   "execution_count": null,
   "id": "06e43aa9",
   "metadata": {},
   "outputs": [],
   "source": []
  },
  {
   "cell_type": "code",
   "execution_count": 2,
   "id": "18d1526c",
   "metadata": {},
   "outputs": [
    {
     "name": "stdout",
     "output_type": "stream",
     "text": [
      "True\n"
     ]
    }
   ],
   "source": [
    "### Initialize environment and establish Web3 connection\n",
    "dotenv.load_dotenv()\n",
    "env = {}\n",
    "env = os.environ\n",
    "node_provider = env['ROPSTEN_PROVIDER']\n",
    "w3 =Web3(Web3.HTTPProvider(node_provider))\n",
    "chainID = 3\n",
    "#w3 = Web3(Web3.WebsocketProvider(node_provider))\n",
    "maxFee = '70'\n",
    "priorFee = '3'\n",
    "print(w3.isConnected())"
   ]
  },
  {
   "cell_type": "code",
   "execution_count": null,
   "id": "fc98ffed",
   "metadata": {},
   "outputs": [],
   "source": []
  },
  {
   "cell_type": "code",
   "execution_count": null,
   "id": "0915056f",
   "metadata": {},
   "outputs": [],
   "source": [
    "def send_ETH(sender, pvk, receiver, amount,nonce):\n",
    "    transaction = {\n",
    "        'from': sender,\n",
    "        'to': receiver,\n",
    "        'value': amount,\n",
    "        'maxFeePerGas': w3.toWei(maxFee,'gwei'),\n",
    "        'maxPriorityFeePerGas': w3.toWei(priorFee, 'gwei'),\n",
    "        'gas': 200000,\n",
    "        'nonce': nonce,\n",
    "        'chainId': chainID\n",
    "        }\n",
    "    signed_txn = w3.eth.account.sign_transaction(transaction, pvk)\n",
    "    return w3.eth.send_raw_transaction(signed_txn.rawTransaction)"
   ]
  },
  {
   "cell_type": "code",
   "execution_count": null,
   "id": "d98286f6",
   "metadata": {},
   "outputs": [],
   "source": [
    "def get_nonce(ETH_address):\n",
    "    return w3.eth.get_transaction_count(ETH_address)"
   ]
  },
  {
   "cell_type": "code",
   "execution_count": null,
   "id": "b679c8c4",
   "metadata": {},
   "outputs": [],
   "source": [
    "def Mint_PT(funder, pvk, recipient, amt, nonce):\n",
    "    transaction_body = {\n",
    "            'from':funder,\n",
    "            'nonce':nonce,\n",
    "            'chainId': chainID,\n",
    "            'maxFeePerGas': w3.toWei(maxFee,'gwei'),\n",
    "            'maxPriorityFeePerGas': w3.toWei(priorFee, 'gwei')\n",
    "        }\n",
    "    function_call = pt.functions.mint(recipient, amt).buildTransaction(transaction_body)\n",
    "    signed_transaction = w3.eth.account.sign_transaction(function_call, private_key = pvk)\n",
    "    trans = w3.eth.send_raw_transaction(signed_transaction.rawTransaction)\n",
    "    #return w3.eth.wait_for_transaction_receipt(trans)"
   ]
  },
  {
   "cell_type": "code",
   "execution_count": null,
   "id": "7a93813d",
   "metadata": {},
   "outputs": [],
   "source": [
    "def create_milestones(funding):\n",
    "    milestones=[]\n",
    "    ms_nr = random.randint(3,6)\n",
    "    for i in range(0, ms_nr):\n",
    "        if i == ms_nr-1:\n",
    "            milestones.append(funding)\n",
    "        else:\n",
    "            ms = random.randint(1,int(funding-(ms_nr-(i))))\n",
    "            milestones.append(ms)\n",
    "            funding -= ms\n",
    "    return milestones\n",
    "        "
   ]
  },
  {
   "cell_type": "code",
   "execution_count": null,
   "id": "6e41b09c",
   "metadata": {},
   "outputs": [],
   "source": [
    "def Make_Proposal(proposer, pvk, salt, amount_needed, time_needed, milestones, nonce):\n",
    "    transaction_body = {\n",
    "            'from':proposer,\n",
    "            'nonce':nonce,\n",
    "            'chainId': chainID,\n",
    "            'maxFeePerGas': w3.toWei(maxFee,'gwei'),\n",
    "            'maxPriorityFeePerGas': w3.toWei(priorFee, 'gwei')\n",
    "        }\n",
    "    function_call = fr.functions.Propose(salt, amount_needed, time_needed, milestones).buildTransaction(transaction_body)\n",
    "    signed_transaction = w3.eth.account.sign_transaction(function_call, private_key = pvk)\n",
    "    trans = w3.eth.send_raw_transaction(signed_transaction.rawTransaction)\n",
    "    return w3.eth.wait_for_transaction_receipt(trans)"
   ]
  },
  {
   "cell_type": "code",
   "execution_count": null,
   "id": "3cca9aa3",
   "metadata": {},
   "outputs": [],
   "source": [
    "def Fund_Round(funder, pvk,amount, nonce):\n",
    "    transaction_body = {\n",
    "            'from':funder,\n",
    "            'nonce':nonce,\n",
    "            'chainId': chainID,\n",
    "            'maxFeePerGas': w3.toWei(maxFee,'gwei'),\n",
    "            'maxPriorityFeePerGas': w3.toWei(priorFee, 'gwei')\n",
    "        }\n",
    "    function_call = fr.functions.Fund(amount).buildTransaction(transaction_body)\n",
    "    signed_transaction = w3.eth.account.sign_transaction(function_call, private_key = pvk)\n",
    "    trans = w3.eth.send_raw_transaction(signed_transaction.rawTransaction)\n",
    "    #return w3.eth.wait_for_transaction_receipt(trans)"
   ]
  },
  {
   "cell_type": "code",
   "execution_count": null,
   "id": "7478d80f",
   "metadata": {},
   "outputs": [],
   "source": [
    "def Vote_Proposal(voter, pvk,prop_id,vote, nonce):\n",
    "    transaction_body = {\n",
    "            'from':voter,\n",
    "            'nonce':nonce,\n",
    "            'chainId': chainID,\n",
    "            'maxFeePerGas': w3.toWei(maxFee,'gwei'),\n",
    "            'maxPriorityFeePerGas': w3.toWei(priorFee, 'gwei')\n",
    "        }\n",
    "    function_call = fr.functions.Vote(prop_id, vote).buildTransaction(transaction_body)\n",
    "    signed_transaction = w3.eth.account.sign_transaction(function_call, private_key = pvk)\n",
    "    trans = w3.eth.send_raw_transaction(signed_transaction.rawTransaction)\n",
    "    return w3.eth.wait_for_transaction_receipt(trans)"
   ]
  },
  {
   "cell_type": "code",
   "execution_count": null,
   "id": "8d744283",
   "metadata": {},
   "outputs": [],
   "source": [
    "def End_Vote(ender, pvk, nonce):\n",
    "    transaction_body = {\n",
    "            'from':ender,\n",
    "            'nonce':nonce,\n",
    "            'chainId': chainID,\n",
    "            'maxFeePerGas': w3.toWei(maxFee,'gwei'),\n",
    "            'maxPriorityFeePerGas': w3.toWei(priorFee, 'gwei')\n",
    "        }\n",
    "    function_call = fr.functions.EndVote().buildTransaction(transaction_body)\n",
    "    signed_transaction = w3.eth.account.sign_transaction(function_call, private_key = pvk)\n",
    "    trans = w3.eth.send_raw_transaction(signed_transaction.rawTransaction)\n",
    "    return w3.eth.wait_for_transaction_receipt(trans)"
   ]
  },
  {
   "cell_type": "code",
   "execution_count": null,
   "id": "1675627d",
   "metadata": {},
   "outputs": [],
   "source": [
    "def Refund(refunder, pvk, nonce):\n",
    "    transaction_body = {\n",
    "            'from':refunder,\n",
    "            'nonce':nonce,\n",
    "            'chainId': chainID,\n",
    "            'maxFeePerGas': w3.toWei(maxFee,'gwei'),\n",
    "            'maxPriorityFeePerGas': w3.toWei(priorFee, 'gwei')\n",
    "        }\n",
    "    function_call = fr.functions.Refund().buildTransaction(transaction_body)\n",
    "    signed_transaction = w3.eth.account.sign_transaction(function_call, private_key = pvk)\n",
    "    trans = w3.eth.send_raw_transaction(signed_transaction.rawTransaction)\n",
    "    return w3.eth.wait_for_transaction_receipt(trans)"
   ]
  },
  {
   "cell_type": "code",
   "execution_count": null,
   "id": "a3a07bc1",
   "metadata": {},
   "outputs": [],
   "source": [
    "def Unlock_Milestone(funder, pvk, prop_id, nonce):\n",
    "    transaction_body = {\n",
    "            'from':funder,\n",
    "            'nonce':nonce,\n",
    "            'chainId': chainID,\n",
    "            'maxFeePerGas': w3.toWei(maxFee,'gwei'),\n",
    "            'maxPriorityFeePerGas': w3.toWei(priorFee, 'gwei')\n",
    "        }\n",
    "    function_call = fr.functions.Unlock_Milestone(prop_id).buildTransaction(transaction_body)\n",
    "    signed_transaction = w3.eth.account.sign_transaction(function_call, private_key = pvk)\n",
    "    trans = w3.eth.send_raw_transaction(signed_transaction.rawTransaction)\n",
    "    return w3.eth.wait_for_transaction_receipt(trans)"
   ]
  },
  {
   "cell_type": "code",
   "execution_count": null,
   "id": "0db16067",
   "metadata": {},
   "outputs": [],
   "source": [
    "def Liquidate_Proposal(funder, pvk, prop_id, nonce):\n",
    "    transaction_body = {\n",
    "            'from':funder,\n",
    "            'nonce':nonce,\n",
    "            'chainId': chainID,\n",
    "            'maxFeePerGas': w3.toWei(maxFee,'gwei'),\n",
    "            'maxPriorityFeePerGas': w3.toWei(priorFee, 'gwei')\n",
    "        }\n",
    "    function_call = fr.functions.LiquidateProposal(prop_id).buildTransaction(transaction_body)\n",
    "    signed_transaction = w3.eth.account.sign_transaction(function_call, private_key = pvk)\n",
    "    trans = w3.eth.send_raw_transaction(signed_transaction.rawTransaction)\n",
    "    return w3.eth.wait_for_transaction_receipt(trans)"
   ]
  },
  {
   "cell_type": "code",
   "execution_count": null,
   "id": "d73e7107",
   "metadata": {},
   "outputs": [],
   "source": [
    "## Initialize Pharma Token\n",
    "contract_abi = json.loads(env['PT_ABI'])\n",
    "contract_address = env['PT_AD']\n",
    "pt = w3.eth.contract(address=contract_address,abi=contract_abi)\n",
    "\n",
    "## Initialize Funding Round\n",
    "contract_abi = json.loads(env['FR_ABI'])\n",
    "contract_address = env['FR_AD']\n",
    "fr = w3.eth.contract(address=contract_address,abi=contract_abi)\n",
    "\n",
    "## Initialize Bounty Board\n",
    "contract_abi = json.loads(env['BB_ABI'])\n",
    "contract_address = env['BB_AD']\n",
    "bb = w3.eth.contract(address=contract_address,abi=contract_abi)\n"
   ]
  },
  {
   "cell_type": "code",
   "execution_count": null,
   "id": "06f5996e",
   "metadata": {},
   "outputs": [],
   "source": [
    "### Check End Times for phases\n",
    "prop_end = datetime.utcfromtimestamp(fr.functions.prop_end().call()+7200).strftime('%Y-%m-%d %H:%M:%S')\n",
    "vote_end = datetime.utcfromtimestamp(fr.functions.vote_end().call()+7200).strftime('%Y-%m-%d %H:%M:%S')\n",
    "\n",
    "print(f'Proposal Phase ends at: {prop_end}, Swiss time')\n",
    "print(f'Voting Phase ends at: {vote_end}, Swiss time')"
   ]
  },
  {
   "cell_type": "code",
   "execution_count": null,
   "id": "2cea17f6",
   "metadata": {},
   "outputs": [],
   "source": [
    "## Distribute Eth among test wallets (only necessary for ropsten)\n",
    "nonce = get_nonce(env['PT_PUK'])\n",
    "for i in range(0,10):\n",
    "    send_ETH(env['PT_PUK'], env['PT_PVK'], env[f'PUK_{i}'], 10**16, nonce)\n",
    "    nonce += 1\n"
   ]
  },
  {
   "cell_type": "code",
   "execution_count": null,
   "id": "95282a56",
   "metadata": {},
   "outputs": [],
   "source": [
    "#Send eth transaction to individual wallet\n",
    "#send_ETH(env['PUK_1'], env['PVK_1'], env['PUK_0'], 5*10**17, get_nonce(env['PUK_1']))"
   ]
  },
  {
   "cell_type": "code",
   "execution_count": null,
   "id": "ee1dd8e1",
   "metadata": {},
   "outputs": [],
   "source": [
    "## Check ETH Balances\n",
    "for j in range(0,10):\n",
    "    balance = w3.eth.get_balance(env[f'PUK_{j}'])/10**18\n",
    "    print(f'ETH Balance of Test Wallet {j} at {env[f\"PUK_{j}\"]}: {balance}')"
   ]
  },
  {
   "cell_type": "code",
   "execution_count": null,
   "id": "61cefa21",
   "metadata": {},
   "outputs": [],
   "source": [
    "### Test script for Submitting proposals\n",
    "### Generates randomized proposals with 2-5 milestones and between 5-softcap funding requirement\n",
    "softcap = fr.functions._fundSoftcap().call()\n",
    "random.seed(42069) #Set Random Seed\n",
    "iterations = 10000\n",
    "\n",
    "for i in range(0,iterations):\n",
    "    funding = random.randint(100,softcap)\n",
    "    milestones = create_milestones(funding)\n",
    "    duration = random.randint(60,600)\n",
    "    wallet_nr = random.randint(0,9)\n",
    "    print(f'Submitting proposal for wallet {wallet_nr}..')\n",
    "    try:\n",
    "        receipt = Make_Proposal(env[f'PUK_{wallet_nr}'], env[f'PVK_{wallet_nr}'],f'{i}', funding, duration,create_milestones(funding), get_nonce(env[f'PUK_{wallet_nr}']))\n",
    "        print(f'Added proposal {i} at block: {receipt.blockNumber}')\n",
    "    except Exception as e:\n",
    "        print(f'Failed to add proposal: {e}')"
   ]
  },
  {
   "cell_type": "code",
   "execution_count": null,
   "id": "bc02fafe",
   "metadata": {},
   "outputs": [],
   "source": [
    "## Distribute PharmaTokens among test wallets. Cave: Has to be performed by owner wallet that deployed token contract\n",
    "nonce = get_nonce(env['PT_PUK'])\n",
    "for i in range(0,10):\n",
    "    Mint_PT(env['PT_PUK'], env['PT_PVK'], env[f'PUK_{i}'], 10**10, nonce)\n",
    "    nonce += 1"
   ]
  },
  {
   "cell_type": "code",
   "execution_count": null,
   "id": "bae89107",
   "metadata": {},
   "outputs": [],
   "source": [
    "## Check PharmaToken Balances\n",
    "for j in range(0,10):\n",
    "    balance = pt.functions.balanceOf(env[f'PUK_{j}']).call()\n",
    "    print(f'PharmaToken Balance of Test Wallet {j} at {env[f\"PUK_{j}\"]}: {balance}')"
   ]
  },
  {
   "cell_type": "code",
   "execution_count": null,
   "id": "befdb240",
   "metadata": {},
   "outputs": [],
   "source": [
    "### Fund the contract with each test wallet\n",
    "for i in range(10):\n",
    "    try:\n",
    "        Fund_Round(env[f'PUK_{i}'],env[f'PVK_{i}'],10**8,get_nonce(env[f'PUK_{i}']))\n",
    "    except Exception as e:\n",
    "        print(f'Wallet {i} failed to fund: {e}')"
   ]
  },
  {
   "cell_type": "code",
   "execution_count": null,
   "id": "e8f2cf55",
   "metadata": {},
   "outputs": [],
   "source": [
    "### Check voting power for each test wallet\n",
    "for i in range(10):\n",
    "    vp = fr.functions.getVotingpower(env[f'PUK_{i}']).call()\n",
    "    print(f'Votingpower of Test Wallet {i} at {env[f\"PUK_{i}\"]}: {vp}')"
   ]
  },
  {
   "cell_type": "code",
   "execution_count": null,
   "id": "b148aaed",
   "metadata": {},
   "outputs": [],
   "source": [
    "### Generate list of proposal IDs\n",
    "k=0\n",
    "prop_list = []\n",
    "for i in range(1000):\n",
    "    try:\n",
    "        \n",
    "        prop_list.append(fr.functions.prop_ids(i).call())\n",
    "        k+=1\n",
    "    except:\n",
    "        print(f'Number of proposals:{k}')\n",
    "        break"
   ]
  },
  {
   "cell_type": "code",
   "execution_count": null,
   "id": "d285ae35",
   "metadata": {},
   "outputs": [],
   "source": [
    "### Iterate over proposal IDs and vote on the with a random vote between 45 and 70% of required votes\n",
    "funding_dict = {}\n",
    "for prop in prop_list:\n",
    "    wallet_nr = random.randint(0,9)\n",
    "    required = fr.functions.proposals(prop).call()[4]\n",
    "    vote = random.randint(int(required*0.45),int(required*0.8))\n",
    "    try:\n",
    "        receipt = Vote_Proposal(env[f'PUK_{wallet_nr}'], env[f'PVK_{wallet_nr}'],prop,vote, get_nonce(env[f'PUK_{wallet_nr}']))\n",
    "        print(f'Voted {vote} on proposal: {prop} that requires {required} at block: {receipt.blockNumber}')\n",
    "        funding_dict[prop] = (env[f\"PUK_{wallet_nr}\"],vote,required)\n",
    "    except Exception as e:\n",
    "        print(f'Failed to vote on proposal: {e}')\n"
   ]
  },
  {
   "cell_type": "code",
   "execution_count": null,
   "id": "00694e42",
   "metadata": {},
   "outputs": [],
   "source": [
    "### End the vote after voting phase has ended\n",
    "end = End_Vote(env['PUK_0'], env['PVK_0'],get_nonce(env['PUK_0']))\n",
    "print(f'Vote was ended at block: {end.blockNumber}, gas used: {end.gasUsed}, txHash: {end.transactionHash.hex()}')"
   ]
  },
  {
   "cell_type": "code",
   "execution_count": null,
   "id": "07692501",
   "metadata": {},
   "outputs": [],
   "source": [
    "prop_list[0]"
   ]
  },
  {
   "cell_type": "code",
   "execution_count": null,
   "id": "b6f99ff2",
   "metadata": {},
   "outputs": [],
   "source": [
    "fr.functions.getMilestones(prop_list[0], 0).call()"
   ]
  },
  {
   "cell_type": "code",
   "execution_count": null,
   "id": "f943e8a1",
   "metadata": {},
   "outputs": [],
   "source": [
    "### Refund all the unused funds\n",
    "for i in range(10):\n",
    "    try:\n",
    "        print(f'Current balance: {pt.functions.balanceOf(env[f\"PUK_{i}\"]).call()}')\n",
    "        Refund(env[f'PUK_{i}'],env[f'PVK_{i}'],get_nonce(env[f'PUK_{i}']))\n",
    "        print(f'Balance after refund: {pt.functions.balanceOf(env[f\"PUK_{i}\"]).call()}')\n",
    "    except Exception as e:\n",
    "        print(f'{env[f\"PUK_{i}\"]} failed to get a refund: {e}')"
   ]
  },
  {
   "cell_type": "code",
   "execution_count": null,
   "id": "870e32b5",
   "metadata": {},
   "outputs": [],
   "source": [
    "### Make Public-Private Key mapping\n",
    "pp_dict={}\n",
    "for i in range(10):\n",
    "    pp_dict[env[f'PUK_{i}']] = env[f'PVK_{i}']\n",
    "\n",
    "### Iterate over proposals and try to unlock the first milestone\n",
    "for prop in prop_list:\n",
    "    puk  =  fr.functions.getVoter(prop, 0).call()\n",
    "    pvk = pp_dict[puk]\n",
    "    proposer = fr.functions.proposals(prop).call()[3]\n",
    "    old_balance = pt.functions.balanceOf(proposer).call()\n",
    "    try:\n",
    "        print(f'Unlocking MS, current balance of proposer is: {old_balance}')\n",
    "        Unlock_Milestone(puk,pvk,prop,get_nonce(puk))\n",
    "        print(f'{puk} succesfully Unlocked Milestone on proposal: {prop}, new balance = {pt.functions.balanceOf(proposer).call()}, difference should be: {fr.functions.getMilestones(prop, 0).call()}')\n",
    "    except Exception as e:\n",
    "        print(f'{puk} failed to vote on milestone for proposal: {prop}, {e}')\n",
    "        "
   ]
  },
  {
   "cell_type": "code",
   "execution_count": null,
   "id": "cc041243",
   "metadata": {},
   "outputs": [],
   "source": [
    "### Iterate over proposals and try to refund the remaining funds\n",
    "for prop in prop_list:\n",
    "    puk  =  fr.functions.getVoter(prop, 0).call()\n",
    "    pvk = pp_dict[puk]\n",
    "    proposer = fr.functions.proposals(prop).call()[3]\n",
    "    old_balance = pt.functions.balanceOf(puk).call()\n",
    "    difference = fr.functions.proposals(prop).call()[4] - fr.functions.proposals(prop).call()[5]\n",
    "    try:\n",
    "        print(f'Refunding, current balance of funder is: {old_balance}')\n",
    "        Liquidate_Proposal(puk,pvk,prop,get_nonce(proposal))\n",
    "        print(f'{puk} succesfully liquidate proposal: {prop}, new balance = {pt.functions.balanceOf(puk).call()}, difference should be: {difference}')\n",
    "    except Exception as e:\n",
    "        print(f'{puk} failed to liquidate proposal: {prop}, {e}')\n",
    "        "
   ]
  }
 ],
 "metadata": {
  "kernelspec": {
   "display_name": "Python 3 (ipykernel)",
   "language": "python",
   "name": "python3"
  },
  "language_info": {
   "codemirror_mode": {
    "name": "ipython",
    "version": 3
   },
   "file_extension": ".py",
   "mimetype": "text/x-python",
   "name": "python",
   "nbconvert_exporter": "python",
   "pygments_lexer": "ipython3",
   "version": "3.8.9"
  }
 },
 "nbformat": 4,
 "nbformat_minor": 5
}
